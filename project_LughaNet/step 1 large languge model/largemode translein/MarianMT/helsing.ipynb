{
 "cells": [
  {
   "cell_type": "code",
   "execution_count": 7,
   "metadata": {},
   "outputs": [
    {
     "name": "stdout",
     "output_type": "stream",
     "text": [
      "Translations saved to 'translations.json'\n"
     ]
    }
   ],
   "source": [
    "import json\n",
    "from transformers import pipeline\n",
    "\n",
    "# Load the JSON file containing the words\n",
    "with open('E:/coding/translatewordnettttttt/trnslatewordneeeeeeeet/meeting/pwn/cleaned_json_file.json', 'r') as file:\n",
    "    words = json.load(file)\n",
    "\n",
    "# Initialize the translation pipeline using a pre-trained model\n",
    "translator = pipeline(\"translation_en_to_ar\", model=\"Helsinki-NLP/opus-mt-en-ar\")\n",
    "\n",
    "# Translate the first 10 words (or fewer if there are less than 10)\n",
    "translations = [translator(word)[0]['translation_text'] for word in words[:]]\n",
    "\n",
    "# Save the translations to a new JSON file\n",
    "with open('E:/coding/usng large machien translation/hesing.json', 'w', encoding='utf-8') as outfile:\n",
    "    json.dump(translations, outfile, ensure_ascii=False, indent=4)\n",
    "\n",
    "print(\"Translations saved to 'translations.json'\")\n"
   ]
  },
  {
   "cell_type": "code",
   "execution_count": null,
   "metadata": {},
   "outputs": [],
   "source": []
  }
 ],
 "metadata": {
  "kernelspec": {
   "display_name": "Python 3",
   "language": "python",
   "name": "python3"
  },
  "language_info": {
   "codemirror_mode": {
    "name": "ipython",
    "version": 3
   },
   "file_extension": ".py",
   "mimetype": "text/x-python",
   "name": "python",
   "nbconvert_exporter": "python",
   "pygments_lexer": "ipython3",
   "version": "3.8.3"
  }
 },
 "nbformat": 4,
 "nbformat_minor": 2
}
