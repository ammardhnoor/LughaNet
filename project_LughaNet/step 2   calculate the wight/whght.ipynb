{
 "cells": [
  {
   "cell_type": "code",
   "execution_count": null,
   "metadata": {},
   "outputs": [],
   "source": [
    "import json\n",
    "from collections import defaultdict\n",
    "\n",
    "# Paths to the input files (update these paths accordingly)\n",
    "source_files = [\n",
    "    'E:/updatetask1/largemode translein/googlepython trasnalator.json',\n",
    "    'E:/updatetask1/largemode translein/m2m.json',\n",
    "    'E:/updatetask1/largemode translein/MarianMT.json',\n",
    "    'E:/updatetask1/largemode translein/mbart50.json',\n",
    "    'E:/updatetask1/largemode translein/NLLB.hson',\n",
    "    'E:/updatetask1/largemode translein/Omegawiki.json',\n",
    "    'E:/updatetask1/largemode translein/ Wikipedia interlanguage.json' \n",
    "\n",
    "]\n",
    "\n",
    "# Load the data from each source file\n",
    "source_data = []\n",
    "for file_path in source_files:\n",
    "    with open(file_path, 'r', encoding='utf-8') as f:\n",
    "        source_data.append(json.load(f))\n",
    "\n",
    "# Initialize a dictionary to hold the counts of each translation\n",
    "translation_counts = defaultdict(lambda: defaultdict(int))\n",
    "\n",
    "# Count the occurrences of each Arabic translation for each English word\n",
    "for data in source_data:\n",
    "    for english_word, arabic_translation in data.items():\n",
    "        translation_counts[english_word][arabic_translation] += 1\n",
    "\n",
    "# Calculate the weights based on the frequency of each translation\n",
    "weights = defaultdict(dict)\n",
    "total_weights = 0\n",
    "for english_word, translations in translation_counts.items():\n",
    "    total_count = sum(translations.values())\n",
    "    for arabic_translation, count in translations.items():\n",
    "        weight = count / total_count\n",
    "        weights[english_word][arabic_translation] = weight\n",
    "        total_weights += 1\n",
    "\n",
    "# Format the output data\n",
    "output_data = {}\n",
    "for english_word, translations in weights.items():\n",
    "    sorted_translations = sorted(translations.items(), key=lambda item: item[1], reverse=True)\n",
    "    output_data[english_word] = {\n",
    "        \"translations\": sorted_translations,\n",
    "        \"weights\": {t[0]: t[1] for t in sorted_translations}\n",
    "    }\n",
    "\n",
    "# Save the output data to a new JSON file\n",
    "output_file_path = 'E:/updatetask1/largemode translein/weighted_translations.json'\n",
    "with open(output_file_path, 'w', encoding='utf-8') as f:\n",
    "    json.dump(output_data, f, ensure_ascii=False, indent=4)"
   ]
  },
  {
   "cell_type": "code",
   "execution_count": null,
   "metadata": {},
   "outputs": [],
   "source": []
  },
  {
   "cell_type": "code",
   "execution_count": null,
   "metadata": {},
   "outputs": [],
   "source": []
  }
 ],
 "metadata": {
  "language_info": {
   "name": "python"
  }
 },
 "nbformat": 4,
 "nbformat_minor": 2
}
