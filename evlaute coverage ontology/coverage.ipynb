{
 "cells": [
  {
   "cell_type": "code",
   "execution_count": 8,
   "metadata": {},
   "outputs": [
    {
     "name": "stdout",
     "output_type": "stream",
     "text": [
      "Total dictionary terms: 22267\n",
      "Coverage percentage: 64.23%\n"
     ]
    }
   ],
   "source": [
    "import json\n",
    "from sklearn.feature_extraction.text import TfidfVectorizer\n",
    "import numpy as np\n",
    "\n",
    "# Load JSON files\n",
    "with open('E:/all the cod/paper 1 code/project/evlaute ontology/dictiory/dic1.json', 'r', encoding='utf-8') as f:\n",
    "    dictionary = json.load(f)\n",
    "\n",
    "with open('E:/all the cod/paper 1 code/project/evlaute ontology/ontology/ontology.json', 'r', encoding='utf-8') as f:\n",
    "    ontology = json.load(f)\n",
    "\n",
    "# Convert ontology list to a single string for TF-IDF vectorization\n",
    "ontology_text = \" \".join(ontology)\n",
    "\n",
    "# Initialize TF-IDF Vectorizer\n",
    "vectorizer = TfidfVectorizer()\n",
    "\n",
    "# Fit and transform the ontology text\n",
    "tfidf_matrix = vectorizer.fit_transform([ontology_text])\n",
    "feature_names = vectorizer.get_feature_names_out()\n",
    "\n",
    "# Check dictionary coverage in ontology\n",
    "covered_terms = [term for term in dictionary if term in feature_names]\n",
    "coverage_percentage = (len(covered_terms) / len(dictionary)) * 100\n",
    "\n",
    "# Display results\n",
    "print(f\"Total dictionary terms: {len(dictionary)}\")\n",
    "print(f\"Coverage percentage: {coverage_percentage:.2f}%\")\n"
   ]
  },
  {
   "cell_type": "code",
   "execution_count": null,
   "metadata": {},
   "outputs": [],
   "source": []
  }
 ],
 "metadata": {
  "kernelspec": {
   "display_name": "Python 3",
   "language": "python",
   "name": "python3"
  },
  "language_info": {
   "codemirror_mode": {
    "name": "ipython",
    "version": 3
   },
   "file_extension": ".py",
   "mimetype": "text/x-python",
   "name": "python",
   "nbconvert_exporter": "python",
   "pygments_lexer": "ipython3",
   "version": "3.8.3"
  }
 },
 "nbformat": 4,
 "nbformat_minor": 2
}
